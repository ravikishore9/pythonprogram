{
 "cells": [
  {
   "cell_type": "markdown",
   "metadata": {},
   "source": [
    "**preoceduaral programming language**\n",
    "- basic unit is functions"
   ]
  },
  {
   "cell_type": "code",
   "execution_count": null,
   "metadata": {},
   "outputs": [],
   "source": [
    "Data sturcture---->desigining algorithum---->converts into code"
   ]
  },
  {
   "cell_type": "code",
   "execution_count": null,
   "metadata": {},
   "outputs": [],
   "source": [
    "- list of programmes\n",
    "- advertisement\n",
    "- students enroll\n",
    "- filter the data based meeting capacity\n",
    "- confiramtion through mails and set the time\n",
    "- classes begun"
   ]
  },
  {
   "cell_type": "code",
   "execution_count": null,
   "metadata": {},
   "outputs": [],
   "source": [
    "Datastuructures=[]\n",
    "def listofprogra():\n",
    "    --------------\n",
    "def adver():\n",
    "    -------------\n",
    "def students enrollment():\n",
    "    --------------\n",
    "def filr():\n",
    "    ------------\n",
    "def confirma():\n",
    "    ----------\n",
    "def classes begun():\n",
    "    ---------"
   ]
  },
  {
   "cell_type": "markdown",
   "metadata": {},
   "source": [
    "**class**\n",
    "- class is design of an object or it is blueprint in which we can have data and methods\n",
    "- class is a collection of variables and methods..\n",
    "- in other programming languages like java class name must be start with upper case"
   ]
  },
  {
   "cell_type": "markdown",
   "metadata": {},
   "source": [
    "**object**\n",
    "- object is a realtime entity \n",
    "- will have two things\n",
    "     - some attributes \n",
    "     - some behaviours"
   ]
  },
  {
   "cell_type": "code",
   "execution_count": null,
   "metadata": {},
   "outputs": [],
   "source": [
    "class Class_name:\n",
    "    ---Attributes----variables----data\n",
    "         or\n",
    "    ---Behaviour----methods[Functions]"
   ]
  },
  {
   "cell_type": "code",
   "execution_count": 6,
   "metadata": {},
   "outputs": [
    {
     "name": "stdout",
     "output_type": "stream",
     "text": [
      "24\n",
      "4\n"
     ]
    }
   ],
   "source": [
    "class Camera:\n",
    "    pass\n",
    "\n",
    "obj1 = Camera()\n",
    "obj2 = Camera()\n",
    "\n",
    "obj1.megapixel = 24\n",
    "obj1.lens = 6\n",
    "\n",
    "obj2.megapixel =16\n",
    "obj2.lens = 4\n",
    "\n",
    "print(obj1.megapixel)\n",
    "print(obj2.lens)"
   ]
  },
  {
   "cell_type": "code",
   "execution_count": 7,
   "metadata": {},
   "outputs": [
    {
     "name": "stdout",
     "output_type": "stream",
     "text": [
      "1200\n"
     ]
    }
   ],
   "source": [
    "class area:\n",
    "    pass\n",
    "\n",
    "rect1 = area()\n",
    "rect2 = area()\n",
    "\n",
    "rect1.height = 30\n",
    "rect1.width = 40\n",
    "\n",
    "rect2.height =48\n",
    "rect2.width = 50\n",
    "\n",
    "print(rect1.height*rect1.width)\n"
   ]
  },
  {
   "cell_type": "markdown",
   "metadata": {},
   "source": [
    "**Function**\n",
    "- function is a collection of statements\n",
    "**Method**\n",
    "- if function inside the class is a method"
   ]
  },
  {
   "cell_type": "code",
   "execution_count": 8,
   "metadata": {},
   "outputs": [],
   "source": [
    "class python():\n",
    "    name=\"python programming\"\n",
    "    rollno=123\n",
    "    def hello():\n",
    "        print(\"happy to learning python\")"
   ]
  },
  {
   "cell_type": "code",
   "execution_count": 9,
   "metadata": {},
   "outputs": [
    {
     "data": {
      "text/plain": [
       "'python programming'"
      ]
     },
     "execution_count": 9,
     "metadata": {},
     "output_type": "execute_result"
    }
   ],
   "source": [
    "python.name"
   ]
  },
  {
   "cell_type": "code",
   "execution_count": 10,
   "metadata": {},
   "outputs": [
    {
     "data": {
      "text/plain": [
       "123"
      ]
     },
     "execution_count": 10,
     "metadata": {},
     "output_type": "execute_result"
    }
   ],
   "source": [
    "python.rollno"
   ]
  },
  {
   "cell_type": "code",
   "execution_count": 12,
   "metadata": {},
   "outputs": [
    {
     "name": "stdout",
     "output_type": "stream",
     "text": [
      "happy to learning python\n"
     ]
    }
   ],
   "source": [
    "python.hello()"
   ]
  },
  {
   "cell_type": "code",
   "execution_count": 15,
   "metadata": {},
   "outputs": [
    {
     "name": "stdout",
     "output_type": "stream",
     "text": [
      "['__class__', '__delattr__', '__dict__', '__dir__', '__doc__', '__eq__', '__format__', '__ge__', '__getattribute__', '__gt__', '__hash__', '__init__', '__init_subclass__', '__le__', '__lt__', '__module__', '__ne__', '__new__', '__reduce__', '__reduce_ex__', '__repr__', '__setattr__', '__sizeof__', '__str__', '__subclasshook__', '__weakref__', 'hello', 'name', 'rollno']"
     ]
    }
   ],
   "source": [
    "obj4=python\n",
    "print(dir(obj4),end=\"\")"
   ]
  },
  {
   "cell_type": "code",
   "execution_count": 16,
   "metadata": {},
   "outputs": [
    {
     "name": "stdout",
     "output_type": "stream",
     "text": [
      "1828652371416\n",
      "1828652371472\n"
     ]
    }
   ],
   "source": [
    "class Computer:\n",
    "    pass\n",
    "c1=Computer()\n",
    "c2=Computer()\n",
    "\n",
    "print(id(c1))\n",
    "print(id(c2))\n",
    "\n"
   ]
  },
  {
   "cell_type": "code",
   "execution_count": null,
   "metadata": {},
   "outputs": [],
   "source": [
    "**constructor**\n",
    "- allocates the size of an object\n",
    "- size of an object depends on the no of variables\n",
    "\n",
    "( __init__ )---> it is usally use intialize some attributes or some functions"
   ]
  },
  {
   "cell_type": "code",
   "execution_count": 17,
   "metadata": {},
   "outputs": [
    {
     "ename": "TypeError",
     "evalue": "__init__() takes 0 positional arguments but 1 was given",
     "output_type": "error",
     "traceback": [
      "\u001b[1;31m---------------------------------------------------------------------------\u001b[0m",
      "\u001b[1;31mTypeError\u001b[0m                                 Traceback (most recent call last)",
      "\u001b[1;32m<ipython-input-17-7f1c59d271e7>\u001b[0m in \u001b[0;36m<module>\u001b[1;34m\u001b[0m\n\u001b[0;32m      2\u001b[0m     \u001b[1;32mdef\u001b[0m \u001b[0m__init__\u001b[0m\u001b[1;33m(\u001b[0m\u001b[1;33m)\u001b[0m\u001b[1;33m:\u001b[0m\u001b[1;33m\u001b[0m\u001b[1;33m\u001b[0m\u001b[0m\n\u001b[0;32m      3\u001b[0m         \u001b[0mprint\u001b[0m\u001b[1;33m(\u001b[0m\u001b[1;34m\"first init method\"\u001b[0m\u001b[1;33m)\u001b[0m\u001b[1;33m\u001b[0m\u001b[1;33m\u001b[0m\u001b[0m\n\u001b[1;32m----> 4\u001b[1;33m \u001b[0mobj5\u001b[0m\u001b[1;33m=\u001b[0m\u001b[0mHello\u001b[0m\u001b[1;33m(\u001b[0m\u001b[1;33m)\u001b[0m\u001b[1;33m\u001b[0m\u001b[1;33m\u001b[0m\u001b[0m\n\u001b[0m",
      "\u001b[1;31mTypeError\u001b[0m: __init__() takes 0 positional arguments but 1 was given"
     ]
    }
   ],
   "source": [
    "class Hello:\n",
    "    def __init__():\n",
    "        print(\"first init method\")\n",
    "obj5=Hello()\n"
   ]
  },
  {
   "cell_type": "code",
   "execution_count": 18,
   "metadata": {},
   "outputs": [
    {
     "name": "stdout",
     "output_type": "stream",
     "text": [
      "first init method\n",
      "first init method\n"
     ]
    }
   ],
   "source": [
    "class Hello:\n",
    "    def __init__(self):\n",
    "        print(\"first init method\")\n",
    "obj5=Hello()\n",
    "obj6=Hello()"
   ]
  },
  {
   "cell_type": "code",
   "execution_count": 39,
   "metadata": {},
   "outputs": [
    {
     "name": "stdout",
     "output_type": "stream",
     "text": [
      "first init method\n",
      "ravikishroe\n"
     ]
    }
   ],
   "source": [
    "class Hello:\n",
    "    def __init__(self,name):\n",
    "        self.name=name\n",
    "        print(\"first init method\")\n",
    "obj7=Hello(\"ravikishroe\")\n",
    "print(obj7.name)\n",
    "\n",
    "\n",
    "#obj8=Hello(\"rk\")\n",
    "#obj8.name"
   ]
  },
  {
   "cell_type": "code",
   "execution_count": 33,
   "metadata": {},
   "outputs": [
    {
     "name": "stdout",
     "output_type": "stream",
     "text": [
      "second init method\n"
     ]
    }
   ],
   "source": [
    "class Hello:\n",
    "    def __init__(self):\n",
    "        print(\"first init method\")\n",
    "    def __init__(self):\n",
    "        print(\"second init method\")\n",
    "obj9=Hello()"
   ]
  },
  {
   "cell_type": "code",
   "execution_count": 40,
   "metadata": {},
   "outputs": [],
   "source": [
    "class calsi:\n",
    "    def __init__(self,n1,n2):\n",
    "        self.num1=n1\n",
    "        self.num2=n2\n",
    "    def display(self):\n",
    "        print(self.num1*self.num2)\n",
    "cal = calsi(10,20)"
   ]
  },
  {
   "cell_type": "code",
   "execution_count": 42,
   "metadata": {},
   "outputs": [
    {
     "name": "stdout",
     "output_type": "stream",
     "text": [
      "200\n"
     ]
    }
   ],
   "source": [
    "cal.display()"
   ]
  },
  {
   "cell_type": "markdown",
   "metadata": {},
   "source": [
    "**Types of variables**\n",
    "- two types of varibles\n",
    "    - instance variable\n",
    "    - class variable(static variable)"
   ]
  },
  {
   "cell_type": "code",
   "execution_count": 44,
   "metadata": {},
   "outputs": [
    {
     "name": "stdout",
     "output_type": "stream",
     "text": [
      "15 red 10\n"
     ]
    }
   ],
   "source": [
    "class Car:\n",
    "    wheels = 4 #---> class variable or static variables\n",
    "    def __init__(self):\n",
    "        self.milage= 10 #----> Instance variables\n",
    "        self.color=\"red\" #----> instance variables\n",
    "c1= Car()\n",
    "c2=Car()\n",
    "\n",
    "c1.milage=15\n",
    "\n",
    "print(c1.milage,c1.color,c1.wheels)"
   ]
  },
  {
   "cell_type": "code",
   "execution_count": null,
   "metadata": {},
   "outputs": [],
   "source": []
  }
 ],
 "metadata": {
  "kernelspec": {
   "display_name": "Python 3",
   "language": "python",
   "name": "python3"
  },
  "language_info": {
   "codemirror_mode": {
    "name": "ipython",
    "version": 3
   },
   "file_extension": ".py",
   "mimetype": "text/x-python",
   "name": "python",
   "nbconvert_exporter": "python",
   "pygments_lexer": "ipython3",
   "version": "3.7.3"
  }
 },
 "nbformat": 4,
 "nbformat_minor": 2
}
