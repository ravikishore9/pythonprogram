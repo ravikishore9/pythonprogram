{
 "cells": [
  {
   "cell_type": "markdown",
   "metadata": {},
   "source": [
    "**Type of methods**\n",
    "- three types of methods \n",
    "    - Instance method\n",
    "    - class method\n",
    "    - Static method\n",
    "    "
   ]
  },
  {
   "cell_type": "code",
   "execution_count": 12,
   "metadata": {},
   "outputs": [
    {
     "name": "stdout",
     "output_type": "stream",
     "text": [
      "66.33333333333333\n",
      "('Apssdc', 'ap')\n",
      "this is OOPs concept\n"
     ]
    }
   ],
   "source": [
    "class Student:\n",
    "    college = \"Apssdc\"\n",
    "    collegecode= \"ap\"\n",
    "    def __init__(self,m1,m2,m3):\n",
    "        self.m1=m1\n",
    "        self.m2=m2\n",
    "        self.m3=m3\n",
    "    def avg(self):\n",
    "        return (self.m1+self.m2+self.m3)/3\n",
    "    \n",
    "    @classmethod\n",
    "    def classinfo(cls):\n",
    "        return cls.college,cls.collegecode\n",
    "    \n",
    "    @staticmethod\n",
    "    def info():\n",
    "        print(\"this is OOPs concept\")\n",
    "\n",
    "s1=Student(78,52,69)\n",
    "\n",
    "s2=Student(85,56,34)\n",
    "\n",
    "print(s1.avg())\n",
    "\n",
    "print(Student.classinfo())\n",
    "\n",
    "Student.info()\n",
    "        \n",
    "    \n",
    "    "
   ]
  },
  {
   "cell_type": "markdown",
   "metadata": {},
   "source": [
    "**Inheritance**\n",
    "- we are trying to inherte something from parent class to child class.\n",
    "    - single inheritance\n",
    "    - multiple inheritance\n",
    "    - multilevel inheritance"
   ]
  },
  {
   "cell_type": "code",
   "execution_count": 43,
   "metadata": {},
   "outputs": [],
   "source": [
    "# Single Inheritance\n",
    "class Class_A:\n",
    "    a,b = 1,2\n",
    "    def display():\n",
    "        print(\"Iam from class_A\")\n",
    "class Class_B(Class_A):\n",
    "    c,d = 4,5\n",
    "    def show():\n",
    "        print(\"Iam from Class_B\")"
   ]
  },
  {
   "cell_type": "code",
   "execution_count": 46,
   "metadata": {},
   "outputs": [],
   "source": [
    "obj = Class_B"
   ]
  },
  {
   "cell_type": "code",
   "execution_count": 48,
   "metadata": {},
   "outputs": [
    {
     "name": "stdout",
     "output_type": "stream",
     "text": [
      "Iam from Class_B\n"
     ]
    }
   ],
   "source": [
    "obj.show()"
   ]
  },
  {
   "cell_type": "code",
   "execution_count": 58,
   "metadata": {},
   "outputs": [],
   "source": [
    "# multilevel inheritane\n",
    "class A:\n",
    "    def class_a():\n",
    "        print(\"Iam from classA\")\n",
    "        \n",
    "class B(A):\n",
    "    def class_b():\n",
    "        print(\"Iam from classB\")\n",
    "        \n",
    "class C(B): \n",
    "    def class_c():\n",
    "        print(\"Iam from classC\")"
   ]
  },
  {
   "cell_type": "code",
   "execution_count": 59,
   "metadata": {},
   "outputs": [
    {
     "name": "stdout",
     "output_type": "stream",
     "text": [
      "Iam from classB\n",
      "Iam from classA\n",
      "Iam from classC\n"
     ]
    }
   ],
   "source": [
    "obj1 = C\n",
    "obj1.class_b()\n",
    "obj1.class_a()\n",
    "obj1.class_c()"
   ]
  },
  {
   "cell_type": "code",
   "execution_count": 60,
   "metadata": {},
   "outputs": [],
   "source": [
    "# multiple inheritance\n",
    "class A:\n",
    "    def class_a():\n",
    "        print(\"Iam from classA\")\n",
    "        \n",
    "class B:\n",
    "    def class_b():\n",
    "        print(\"Iam from classB\")\n",
    "        \n",
    "class C(A,B): \n",
    "    def class_c():\n",
    "        print(\"Iam from classC\")"
   ]
  },
  {
   "cell_type": "code",
   "execution_count": 62,
   "metadata": {},
   "outputs": [
    {
     "name": "stdout",
     "output_type": "stream",
     "text": [
      "Iam from classB\n",
      "Iam from classA\n"
     ]
    }
   ],
   "source": [
    "obj2 = C\n",
    "obj2.class_b()\n",
    "obj2.class_a()"
   ]
  },
  {
   "cell_type": "code",
   "execution_count": 22,
   "metadata": {},
   "outputs": [],
   "source": [
    "# Method resolution order\n",
    "class A:\n",
    "    def __init__(self):\n",
    "        print(\"Init A\")\n",
    "    def fe_A(self):\n",
    "        print(\"feature A is working\")\n",
    "class B:\n",
    "    def __init__(self):\n",
    "        super().__init__()\n",
    "        print(\"Init B\")\n",
    "    def fe_A(self):\n",
    "        print(\"feature B is working\")\n",
    "class C(B,A):\n",
    "    def __init__(self):\n",
    "        super().__init__()\n",
    "        print(\"Init C\")\n",
    "    def fe_C(self):\n",
    "        print(\"feature C is working\")"
   ]
  },
  {
   "cell_type": "code",
   "execution_count": 23,
   "metadata": {},
   "outputs": [
    {
     "name": "stdout",
     "output_type": "stream",
     "text": [
      "Init A\n",
      "Init B\n",
      "Init C\n",
      "feature B is working\n"
     ]
    }
   ],
   "source": [
    "obj4 = C()\n",
    "obj4.fe_A()"
   ]
  },
  {
   "cell_type": "markdown",
   "metadata": {},
   "source": [
    "is \"data\" and \"info\" same or not ?"
   ]
  },
  {
   "cell_type": "code",
   "execution_count": 27,
   "metadata": {},
   "outputs": [
    {
     "name": "stdout",
     "output_type": "stream",
     "text": [
      "1\n"
     ]
    }
   ],
   "source": [
    "n=int(input())"
   ]
  },
  {
   "cell_type": "code",
   "execution_count": null,
   "metadata": {},
   "outputs": [],
   "source": [
    "with open()"
   ]
  }
 ],
 "metadata": {
  "kernelspec": {
   "display_name": "Python 3",
   "language": "python",
   "name": "python3"
  },
  "language_info": {
   "codemirror_mode": {
    "name": "ipython",
    "version": 3
   },
   "file_extension": ".py",
   "mimetype": "text/x-python",
   "name": "python",
   "nbconvert_exporter": "python",
   "pygments_lexer": "ipython3",
   "version": "3.7.3"
  }
 },
 "nbformat": 4,
 "nbformat_minor": 2
}
